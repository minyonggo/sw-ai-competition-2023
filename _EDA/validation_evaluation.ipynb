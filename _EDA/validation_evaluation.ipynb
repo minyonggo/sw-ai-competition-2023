{
 "cells": [
  {
   "cell_type": "code",
   "execution_count": 1,
   "metadata": {},
   "outputs": [],
   "source": [
    "import numpy as np\n",
    "from tqdm import tqdm\n",
    "import cv2\n",
    "import os\n",
    "from glob import glob"
   ]
  },
  {
   "cell_type": "code",
   "execution_count": 2,
   "metadata": {},
   "outputs": [],
   "source": [
    "def dice_coef(y_true, y_pred):\n",
    "    intersection = np.sum(y_true * y_pred)\n",
    "    return (2. * intersection + 1.) / (np.sum(y_true) + np.sum(y_pred) + 1.)\n",
    "\n",
    "def iou_coef(y_true, y_pred):\n",
    "    intersection = np.sum(y_true * y_pred)\n",
    "    union = np.sum(y_true) + np.sum(y_pred) - intersection\n",
    "    return (intersection + 1.) / (union + 1.)"
   ]
  },
  {
   "cell_type": "code",
   "execution_count": 8,
   "metadata": {},
   "outputs": [
    {
     "name": "stderr",
     "output_type": "stream",
     "text": [
      "100%|██████████| 17136/17136 [00:41<00:00, 411.21it/s]"
     ]
    },
    {
     "name": "stdout",
     "output_type": "stream",
     "text": [
      "mIoU 0.7350377057451759\n",
      "mDice 0.8167588074908287\n"
     ]
    },
    {
     "name": "stderr",
     "output_type": "stream",
     "text": [
      "\n"
     ]
    }
   ],
   "source": [
    "val_gt_mask = glob(\"/home/mykang/mmsegmentation/data/Satellite/ann_dir/val_slice/*.png\")\n",
    "\n",
    "dice_list = []\n",
    "iou_list = []\n",
    "\n",
    "for filename in tqdm(val_gt_mask):\n",
    "    gt_mask_path = f\"/home/mykang/mmsegmentation/data/Satellite/ann_dir/val_slice/{os.path.basename(filename)}\"\n",
    "    pred_mask_path = f\"/home/mykang/mmsegmentation/_satellite/deeplabv3plus/format_results/{os.path.basename(filename)}\"\n",
    "\n",
    "\n",
    "    gt_mask = cv2.imread(gt_mask_path, cv2.IMREAD_GRAYSCALE)\n",
    "    pred_mask = cv2.imread(pred_mask_path, cv2.IMREAD_GRAYSCALE)\n",
    "\n",
    "    # my inference value is [7,8]\n",
    "    pred_mask = pred_mask - 7\n",
    "\n",
    "    # Ignore pairs where there is no building in gt and pred_mask\n",
    "    gt_sum = np.sum(gt_mask == 1)\n",
    "    pred_sum = np.sum(pred_mask == 1)\n",
    "    if gt_sum == 0 and pred_sum == 0:\n",
    "        continue\n",
    "\n",
    "    if gt_sum == 0 and pred_sum != 0:\n",
    "        dice_list.append(0)\n",
    "        iou_list.append(0)\n",
    "\n",
    "    iou = iou_coef(gt_mask, pred_mask)\n",
    "    dice = dice_coef(gt_mask, pred_mask)\n",
    "\n",
    "    dice_list.append(dice)\n",
    "    iou_list.append(iou)\n",
    "\n",
    "\n",
    "\n",
    "print(\"mIoU\", sum(iou_list) / len(iou_list))\n",
    "print(\"mDice\", sum(dice_list) / len(dice_list))"
   ]
  },
  {
   "cell_type": "code",
   "execution_count": null,
   "metadata": {},
   "outputs": [],
   "source": []
  }
 ],
 "metadata": {
  "kernelspec": {
   "display_name": "mmseg",
   "language": "python",
   "name": "python3"
  },
  "language_info": {
   "codemirror_mode": {
    "name": "ipython",
    "version": 3
   },
   "file_extension": ".py",
   "mimetype": "text/x-python",
   "name": "python",
   "nbconvert_exporter": "python",
   "pygments_lexer": "ipython3",
   "version": "3.8.16"
  },
  "orig_nbformat": 4
 },
 "nbformat": 4,
 "nbformat_minor": 2
}
